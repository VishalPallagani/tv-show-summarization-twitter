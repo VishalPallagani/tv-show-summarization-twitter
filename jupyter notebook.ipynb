{
 "cells": [
  {
   "cell_type": "code",
   "execution_count": 1,
   "metadata": {
    "collapsed": true
   },
   "outputs": [],
   "source": [
    "import json\n",
    "import pandas as pd\n",
    "from pandas.tseries.resample import TimeGrouper\n",
    "from pandas.tseries.offsets import DateOffset"
   ]
  },
  {
   "cell_type": "code",
   "execution_count": 2,
   "metadata": {
    "collapsed": true
   },
   "outputs": [],
   "source": [
    "tweets_data_path = 'enikos_18_4.txt'"
   ]
  },
  {
   "cell_type": "code",
   "execution_count": 3,
   "metadata": {
    "collapsed": false
   },
   "outputs": [],
   "source": [
    "tweets_data = []\n",
    "tweets_file = open(tweets_data_path, \"r\")\n",
    "for line in tweets_file:\n",
    "    try:\n",
    "        tweet = json.loads(line)\n",
    "        tweets_data.append(tweet)\n",
    "    except:\n",
    "        continue\n"
   ]
  },
  {
   "cell_type": "code",
   "execution_count": 4,
   "metadata": {
    "collapsed": false
   },
   "outputs": [
    {
     "name": "stdout",
     "output_type": "stream",
     "text": [
      "8494\n"
     ]
    }
   ],
   "source": [
    "print (len(tweets_data))"
   ]
  },
  {
   "cell_type": "code",
   "execution_count": 5,
   "metadata": {
    "collapsed": true
   },
   "outputs": [],
   "source": [
    "tweets = pd.DataFrame()"
   ]
  },
  {
   "cell_type": "code",
   "execution_count": 6,
   "metadata": {
    "collapsed": true
   },
   "outputs": [],
   "source": [
    "tweets['text'] = list(map(lambda tweet: tweet['text'], tweets_data))  \n",
    "#list (map..) in order to parse inside the array\n",
    "tweets['created_at'] = list(map(lambda tweet: tweet['created_at'], tweets_data))"
   ]
  },
  {
   "cell_type": "code",
   "execution_count": 7,
   "metadata": {
    "collapsed": false
   },
   "outputs": [
    {
     "data": {
      "text/html": [
       "<div>\n",
       "<table border=\"1\" class=\"dataframe\">\n",
       "  <thead>\n",
       "    <tr style=\"text-align: right;\">\n",
       "      <th></th>\n",
       "      <th>text</th>\n",
       "      <th>created_at</th>\n",
       "    </tr>\n",
       "  </thead>\n",
       "  <tbody>\n",
       "    <tr>\n",
       "      <th>0</th>\n",
       "      <td>Ξεκινάμε #stoneniko με τον @NChatzinikolaou, σ...</td>\n",
       "      <td>Mon Apr 18 20:25:02 +0000 2016</td>\n",
       "    </tr>\n",
       "    <tr>\n",
       "      <th>1</th>\n",
       "      <td>RT @enikos_gr: Ξεκινάμε #stoneniko με τον @NCh...</td>\n",
       "      <td>Mon Apr 18 20:25:15 +0000 2016</td>\n",
       "    </tr>\n",
       "    <tr>\n",
       "      <th>2</th>\n",
       "      <td>Eεχει αποψε  #enikos</td>\n",
       "      <td>Mon Apr 18 20:25:20 +0000 2016</td>\n",
       "    </tr>\n",
       "    <tr>\n",
       "      <th>3</th>\n",
       "      <td>Μπορείτε να παρακολουθήσετε την εκπομπή του @N...</td>\n",
       "      <td>Mon Apr 18 20:25:25 +0000 2016</td>\n",
       "    </tr>\n",
       "    <tr>\n",
       "      <th>4</th>\n",
       "      <td>RT @enikos_gr: Μπορείτε να παρακολουθήσετε την...</td>\n",
       "      <td>Mon Apr 18 20:25:30 +0000 2016</td>\n",
       "    </tr>\n",
       "  </tbody>\n",
       "</table>\n",
       "</div>"
      ],
      "text/plain": [
       "                                                text  \\\n",
       "0  Ξεκινάμε #stoneniko με τον @NChatzinikolaou, σ...   \n",
       "1  RT @enikos_gr: Ξεκινάμε #stoneniko με τον @NCh...   \n",
       "2                               Eεχει αποψε  #enikos   \n",
       "3  Μπορείτε να παρακολουθήσετε την εκπομπή του @N...   \n",
       "4  RT @enikos_gr: Μπορείτε να παρακολουθήσετε την...   \n",
       "\n",
       "                       created_at  \n",
       "0  Mon Apr 18 20:25:02 +0000 2016  \n",
       "1  Mon Apr 18 20:25:15 +0000 2016  \n",
       "2  Mon Apr 18 20:25:20 +0000 2016  \n",
       "3  Mon Apr 18 20:25:25 +0000 2016  \n",
       "4  Mon Apr 18 20:25:30 +0000 2016  "
      ]
     },
     "execution_count": 7,
     "metadata": {},
     "output_type": "execute_result"
    }
   ],
   "source": [
    "tweets.head()"
   ]
  },
  {
   "cell_type": "code",
   "execution_count": 8,
   "metadata": {
    "collapsed": false
   },
   "outputs": [
    {
     "data": {
      "text/plain": [
       "DatetimeIndex(['2016-04-17 23:25:02+03:00', '2016-04-17 23:25:15+03:00',\n",
       "               '2016-04-17 23:25:20+03:00', '2016-04-17 23:25:25+03:00',\n",
       "               '2016-04-17 23:25:30+03:00', '2016-04-17 23:25:35+03:00',\n",
       "               '2016-04-17 23:25:39+03:00', '2016-04-17 23:25:56+03:00',\n",
       "               '2016-04-17 23:26:12+03:00', '2016-04-17 23:26:40+03:00',\n",
       "               ...\n",
       "               '2016-04-18 02:26:11+03:00', '2016-04-18 02:26:12+03:00',\n",
       "               '2016-04-18 02:26:13+03:00', '2016-04-18 02:26:17+03:00',\n",
       "               '2016-04-18 02:26:20+03:00', '2016-04-18 02:26:21+03:00',\n",
       "               '2016-04-18 02:26:28+03:00', '2016-04-18 02:26:29+03:00',\n",
       "               '2016-04-18 02:26:34+03:00', '2016-04-18 02:26:34+03:00'],\n",
       "              dtype='datetime64[ns, Europe/Athens]', name='created_at', length=8494, freq=None)"
      ]
     },
     "execution_count": 8,
     "metadata": {},
     "output_type": "execute_result"
    }
   ],
   "source": [
    "tweets['created_at'] = pd.to_datetime(pd.Series(tweets['created_at']))\n",
    "tweets.set_index('created_at', drop=False, inplace=True)\n",
    "tweets.index = tweets.index.tz_localize('GMT').tz_convert('Europe/Athens')\n",
    "tweets.index = tweets.index - DateOffset(hours = 24) #isws auto prepei na ginei 24 hours\n",
    "tweets.index"
   ]
  },
  {
   "cell_type": "code",
   "execution_count": 9,
   "metadata": {
    "collapsed": true
   },
   "outputs": [],
   "source": [
    "tweets1m = tweets['created_at'].resample('1t').count()"
   ]
  },
  {
   "cell_type": "code",
   "execution_count": 10,
   "metadata": {
    "collapsed": true
   },
   "outputs": [],
   "source": [
    "avg = tweets1m.mean()"
   ]
  },
  {
   "cell_type": "code",
   "execution_count": 11,
   "metadata": {
    "collapsed": false
   },
   "outputs": [
    {
     "data": {
      "text/plain": [
       "46.67032967032967"
      ]
     },
     "execution_count": 11,
     "metadata": {},
     "output_type": "execute_result"
    }
   ],
   "source": [
    "avg"
   ]
  },
  {
   "cell_type": "code",
   "execution_count": 12,
   "metadata": {
    "collapsed": false
   },
   "outputs": [
    {
     "data": {
      "text/html": [
       "\n",
       "           <script>\n",
       "               \n",
       "                function vct_load_lib(url, callback){\n",
       "                      if(typeof d3 !== 'undefined' &&\n",
       "                         url === 'http://d3js.org/d3.v3.min.js'){\n",
       "                        callback()\n",
       "                      }\n",
       "                      var s = document.createElement('script');\n",
       "                      s.src = url;\n",
       "                      s.async = true;\n",
       "                      s.onreadystatechange = s.onload = callback;\n",
       "                      s.onerror = function(){\n",
       "                        console.warn(\"failed to load library \" + url);\n",
       "                        };\n",
       "                      document.getElementsByTagName(\"head\")[0].appendChild(s);\n",
       "                };\n",
       "                var vincent_event = new CustomEvent(\n",
       "                  \"vincent_libs_loaded\",\n",
       "                  {bubbles: true, cancelable: true}\n",
       "                );\n",
       "                \n",
       "               function load_all_libs(){\n",
       "                  console.log('Loading Vincent libs...')\n",
       "                  vct_load_lib('http://d3js.org/d3.v3.min.js', function(){\n",
       "                  vct_load_lib('http://d3js.org/d3.geo.projection.v0.min.js', function(){\n",
       "                  vct_load_lib('http://wrobstory.github.io/d3-cloud/d3.layout.cloud.js', function(){\n",
       "                  vct_load_lib('http://wrobstory.github.io/vega/vega.v1.3.3.js', function(){\n",
       "                  window.dispatchEvent(vincent_event);\n",
       "                  });\n",
       "                  });\n",
       "                  });\n",
       "                  });\n",
       "               };\n",
       "               if(typeof define === \"function\" && define.amd){\n",
       "                    if (window['d3'] === undefined ||\n",
       "                        window['topojson'] === undefined){\n",
       "                        require.config(\n",
       "                            {paths: {\n",
       "                              d3: 'http://d3js.org/d3.v3.min',\n",
       "                              topojson: 'http://d3js.org/topojson.v1.min'\n",
       "                              }\n",
       "                            }\n",
       "                          );\n",
       "                        require([\"d3\"], function(d3){\n",
       "                            console.log('Loading Vincent from require.js...')\n",
       "                            window.d3 = d3;\n",
       "                            require([\"topojson\"], function(topojson){\n",
       "                                window.topojson = topojson;\n",
       "                                load_all_libs();\n",
       "                            });\n",
       "                        });\n",
       "                    } else {\n",
       "                        load_all_libs();\n",
       "                    };\n",
       "               }else{\n",
       "                    console.log('Require.js not found, loading manually...')\n",
       "                    load_all_libs();\n",
       "               };\n",
       "\n",
       "           </script>"
      ],
      "text/plain": [
       "<IPython.core.display.HTML object>"
      ]
     },
     "metadata": {},
     "output_type": "display_data"
    },
    {
     "data": {
      "text/html": [
       "<div id=\"vis10568f1ac52446439506867dbbbd6f60\"></div>\n",
       "<script>\n",
       "   ( function() {\n",
       "     var _do_plot = function() {\n",
       "       if (typeof vg === 'undefined') {\n",
       "         window.addEventListener('vincent_libs_loaded', _do_plot)\n",
       "         return;\n",
       "       }\n",
       "       vg.parse.spec({\"axes\": [{\"scale\": \"x\", \"type\": \"x\"}, {\"scale\": \"y\", \"type\": \"y\"}], \"data\": [{\"name\": \"table\", \"values\": [{\"col\": \"data\", \"idx\": 1460924700000, \"val\": 8}, {\"col\": \"data\", \"idx\": 1460924760000, \"val\": 7}, {\"col\": \"data\", \"idx\": 1460924820000, \"val\": 19}, {\"col\": \"data\", \"idx\": 1460924880000, \"val\": 19}, {\"col\": \"data\", \"idx\": 1460924940000, \"val\": 6}, {\"col\": \"data\", \"idx\": 1460925000000, \"val\": 16}, {\"col\": \"data\", \"idx\": 1460925060000, \"val\": 11}, {\"col\": \"data\", \"idx\": 1460925120000, \"val\": 12}, {\"col\": \"data\", \"idx\": 1460925180000, \"val\": 14}, {\"col\": \"data\", \"idx\": 1460925240000, \"val\": 12}, {\"col\": \"data\", \"idx\": 1460925300000, \"val\": 19}, {\"col\": \"data\", \"idx\": 1460925360000, \"val\": 10}, {\"col\": \"data\", \"idx\": 1460925420000, \"val\": 20}, {\"col\": \"data\", \"idx\": 1460925480000, \"val\": 17}, {\"col\": \"data\", \"idx\": 1460925540000, \"val\": 21}, {\"col\": \"data\", \"idx\": 1460925600000, \"val\": 30}, {\"col\": \"data\", \"idx\": 1460925660000, \"val\": 28}, {\"col\": \"data\", \"idx\": 1460925720000, \"val\": 32}, {\"col\": \"data\", \"idx\": 1460925780000, \"val\": 36}, {\"col\": \"data\", \"idx\": 1460925840000, \"val\": 51}, {\"col\": \"data\", \"idx\": 1460925900000, \"val\": 40}, {\"col\": \"data\", \"idx\": 1460925960000, \"val\": 43}, {\"col\": \"data\", \"idx\": 1460926020000, \"val\": 60}, {\"col\": \"data\", \"idx\": 1460926080000, \"val\": 51}, {\"col\": \"data\", \"idx\": 1460926140000, \"val\": 66}, {\"col\": \"data\", \"idx\": 1460926200000, \"val\": 47}, {\"col\": \"data\", \"idx\": 1460926260000, \"val\": 35}, {\"col\": \"data\", \"idx\": 1460926320000, \"val\": 57}, {\"col\": \"data\", \"idx\": 1460926380000, \"val\": 63}, {\"col\": \"data\", \"idx\": 1460926440000, \"val\": 47}, {\"col\": \"data\", \"idx\": 1460926500000, \"val\": 58}, {\"col\": \"data\", \"idx\": 1460926560000, \"val\": 53}, {\"col\": \"data\", \"idx\": 1460926620000, \"val\": 47}, {\"col\": \"data\", \"idx\": 1460926680000, \"val\": 59}, {\"col\": \"data\", \"idx\": 1460926740000, \"val\": 58}, {\"col\": \"data\", \"idx\": 1460926800000, \"val\": 57}, {\"col\": \"data\", \"idx\": 1460926860000, \"val\": 53}, {\"col\": \"data\", \"idx\": 1460926920000, \"val\": 62}, {\"col\": \"data\", \"idx\": 1460926980000, \"val\": 82}, {\"col\": \"data\", \"idx\": 1460927040000, \"val\": 65}, {\"col\": \"data\", \"idx\": 1460927100000, \"val\": 56}, {\"col\": \"data\", \"idx\": 1460927160000, \"val\": 67}, {\"col\": \"data\", \"idx\": 1460927220000, \"val\": 67}, {\"col\": \"data\", \"idx\": 1460927280000, \"val\": 73}, {\"col\": \"data\", \"idx\": 1460927340000, \"val\": 80}, {\"col\": \"data\", \"idx\": 1460927400000, \"val\": 58}, {\"col\": \"data\", \"idx\": 1460927460000, \"val\": 62}, {\"col\": \"data\", \"idx\": 1460927520000, \"val\": 55}, {\"col\": \"data\", \"idx\": 1460927580000, \"val\": 82}, {\"col\": \"data\", \"idx\": 1460927640000, \"val\": 74}, {\"col\": \"data\", \"idx\": 1460927700000, \"val\": 59}, {\"col\": \"data\", \"idx\": 1460927760000, \"val\": 54}, {\"col\": \"data\", \"idx\": 1460927820000, \"val\": 63}, {\"col\": \"data\", \"idx\": 1460927880000, \"val\": 58}, {\"col\": \"data\", \"idx\": 1460927940000, \"val\": 78}, {\"col\": \"data\", \"idx\": 1460928000000, \"val\": 53}, {\"col\": \"data\", \"idx\": 1460928060000, \"val\": 46}, {\"col\": \"data\", \"idx\": 1460928120000, \"val\": 44}, {\"col\": \"data\", \"idx\": 1460928180000, \"val\": 55}, {\"col\": \"data\", \"idx\": 1460928240000, \"val\": 53}, {\"col\": \"data\", \"idx\": 1460928300000, \"val\": 47}, {\"col\": \"data\", \"idx\": 1460928360000, \"val\": 30}, {\"col\": \"data\", \"idx\": 1460928420000, \"val\": 40}, {\"col\": \"data\", \"idx\": 1460928480000, \"val\": 33}, {\"col\": \"data\", \"idx\": 1460928540000, \"val\": 33}, {\"col\": \"data\", \"idx\": 1460928600000, \"val\": 38}, {\"col\": \"data\", \"idx\": 1460928660000, \"val\": 41}, {\"col\": \"data\", \"idx\": 1460928720000, \"val\": 33}, {\"col\": \"data\", \"idx\": 1460928780000, \"val\": 38}, {\"col\": \"data\", \"idx\": 1460928840000, \"val\": 34}, {\"col\": \"data\", \"idx\": 1460928900000, \"val\": 47}, {\"col\": \"data\", \"idx\": 1460928960000, \"val\": 48}, {\"col\": \"data\", \"idx\": 1460929020000, \"val\": 51}, {\"col\": \"data\", \"idx\": 1460929080000, \"val\": 55}, {\"col\": \"data\", \"idx\": 1460929140000, \"val\": 47}, {\"col\": \"data\", \"idx\": 1460929200000, \"val\": 51}, {\"col\": \"data\", \"idx\": 1460929260000, \"val\": 44}, {\"col\": \"data\", \"idx\": 1460929320000, \"val\": 54}, {\"col\": \"data\", \"idx\": 1460929380000, \"val\": 47}, {\"col\": \"data\", \"idx\": 1460929440000, \"val\": 53}, {\"col\": \"data\", \"idx\": 1460929500000, \"val\": 35}, {\"col\": \"data\", \"idx\": 1460929560000, \"val\": 49}, {\"col\": \"data\", \"idx\": 1460929620000, \"val\": 36}, {\"col\": \"data\", \"idx\": 1460929680000, \"val\": 47}, {\"col\": \"data\", \"idx\": 1460929740000, \"val\": 53}, {\"col\": \"data\", \"idx\": 1460929800000, \"val\": 70}, {\"col\": \"data\", \"idx\": 1460929860000, \"val\": 66}, {\"col\": \"data\", \"idx\": 1460929920000, \"val\": 62}, {\"col\": \"data\", \"idx\": 1460929980000, \"val\": 46}, {\"col\": \"data\", \"idx\": 1460930040000, \"val\": 66}, {\"col\": \"data\", \"idx\": 1460930100000, \"val\": 56}, {\"col\": \"data\", \"idx\": 1460930160000, \"val\": 62}, {\"col\": \"data\", \"idx\": 1460930220000, \"val\": 59}, {\"col\": \"data\", \"idx\": 1460930280000, \"val\": 60}, {\"col\": \"data\", \"idx\": 1460930340000, \"val\": 50}, {\"col\": \"data\", \"idx\": 1460930400000, \"val\": 77}, {\"col\": \"data\", \"idx\": 1460930460000, \"val\": 63}, {\"col\": \"data\", \"idx\": 1460930520000, \"val\": 61}, {\"col\": \"data\", \"idx\": 1460930580000, \"val\": 76}, {\"col\": \"data\", \"idx\": 1460930640000, \"val\": 89}, {\"col\": \"data\", \"idx\": 1460930700000, \"val\": 72}, {\"col\": \"data\", \"idx\": 1460930760000, \"val\": 52}, {\"col\": \"data\", \"idx\": 1460930820000, \"val\": 52}, {\"col\": \"data\", \"idx\": 1460930880000, \"val\": 62}, {\"col\": \"data\", \"idx\": 1460930940000, \"val\": 58}, {\"col\": \"data\", \"idx\": 1460931000000, \"val\": 80}, {\"col\": \"data\", \"idx\": 1460931060000, \"val\": 60}, {\"col\": \"data\", \"idx\": 1460931120000, \"val\": 67}, {\"col\": \"data\", \"idx\": 1460931180000, \"val\": 53}, {\"col\": \"data\", \"idx\": 1460931240000, \"val\": 57}, {\"col\": \"data\", \"idx\": 1460931300000, \"val\": 57}, {\"col\": \"data\", \"idx\": 1460931360000, \"val\": 53}, {\"col\": \"data\", \"idx\": 1460931420000, \"val\": 55}, {\"col\": \"data\", \"idx\": 1460931480000, \"val\": 48}, {\"col\": \"data\", \"idx\": 1460931540000, \"val\": 52}, {\"col\": \"data\", \"idx\": 1460931600000, \"val\": 56}, {\"col\": \"data\", \"idx\": 1460931660000, \"val\": 92}, {\"col\": \"data\", \"idx\": 1460931720000, \"val\": 68}, {\"col\": \"data\", \"idx\": 1460931780000, \"val\": 63}, {\"col\": \"data\", \"idx\": 1460931840000, \"val\": 46}, {\"col\": \"data\", \"idx\": 1460931900000, \"val\": 47}, {\"col\": \"data\", \"idx\": 1460931960000, \"val\": 39}, {\"col\": \"data\", \"idx\": 1460932020000, \"val\": 51}, {\"col\": \"data\", \"idx\": 1460932080000, \"val\": 62}, {\"col\": \"data\", \"idx\": 1460932140000, \"val\": 35}, {\"col\": \"data\", \"idx\": 1460932200000, \"val\": 37}, {\"col\": \"data\", \"idx\": 1460932260000, \"val\": 46}, {\"col\": \"data\", \"idx\": 1460932320000, \"val\": 46}, {\"col\": \"data\", \"idx\": 1460932380000, \"val\": 44}, {\"col\": \"data\", \"idx\": 1460932440000, \"val\": 32}, {\"col\": \"data\", \"idx\": 1460932500000, \"val\": 37}, {\"col\": \"data\", \"idx\": 1460932560000, \"val\": 38}, {\"col\": \"data\", \"idx\": 1460932620000, \"val\": 36}, {\"col\": \"data\", \"idx\": 1460932680000, \"val\": 51}, {\"col\": \"data\", \"idx\": 1460932740000, \"val\": 37}, {\"col\": \"data\", \"idx\": 1460932800000, \"val\": 35}, {\"col\": \"data\", \"idx\": 1460932860000, \"val\": 44}, {\"col\": \"data\", \"idx\": 1460932920000, \"val\": 32}, {\"col\": \"data\", \"idx\": 1460932980000, \"val\": 33}, {\"col\": \"data\", \"idx\": 1460933040000, \"val\": 43}, {\"col\": \"data\", \"idx\": 1460933100000, \"val\": 50}, {\"col\": \"data\", \"idx\": 1460933160000, \"val\": 37}, {\"col\": \"data\", \"idx\": 1460933220000, \"val\": 36}, {\"col\": \"data\", \"idx\": 1460933280000, \"val\": 53}, {\"col\": \"data\", \"idx\": 1460933340000, \"val\": 41}, {\"col\": \"data\", \"idx\": 1460933400000, \"val\": 53}, {\"col\": \"data\", \"idx\": 1460933460000, \"val\": 59}, {\"col\": \"data\", \"idx\": 1460933520000, \"val\": 51}, {\"col\": \"data\", \"idx\": 1460933580000, \"val\": 67}, {\"col\": \"data\", \"idx\": 1460933640000, \"val\": 57}, {\"col\": \"data\", \"idx\": 1460933700000, \"val\": 59}, {\"col\": \"data\", \"idx\": 1460933760000, \"val\": 49}, {\"col\": \"data\", \"idx\": 1460933820000, \"val\": 49}, {\"col\": \"data\", \"idx\": 1460933880000, \"val\": 30}, {\"col\": \"data\", \"idx\": 1460933940000, \"val\": 47}, {\"col\": \"data\", \"idx\": 1460934000000, \"val\": 43}, {\"col\": \"data\", \"idx\": 1460934060000, \"val\": 29}, {\"col\": \"data\", \"idx\": 1460934120000, \"val\": 30}, {\"col\": \"data\", \"idx\": 1460934180000, \"val\": 43}, {\"col\": \"data\", \"idx\": 1460934240000, \"val\": 40}, {\"col\": \"data\", \"idx\": 1460934300000, \"val\": 44}, {\"col\": \"data\", \"idx\": 1460934360000, \"val\": 25}, {\"col\": \"data\", \"idx\": 1460934420000, \"val\": 23}, {\"col\": \"data\", \"idx\": 1460934480000, \"val\": 36}, {\"col\": \"data\", \"idx\": 1460934540000, \"val\": 20}, {\"col\": \"data\", \"idx\": 1460934600000, \"val\": 32}, {\"col\": \"data\", \"idx\": 1460934660000, \"val\": 40}, {\"col\": \"data\", \"idx\": 1460934720000, \"val\": 40}, {\"col\": \"data\", \"idx\": 1460934780000, \"val\": 27}, {\"col\": \"data\", \"idx\": 1460934840000, \"val\": 28}, {\"col\": \"data\", \"idx\": 1460934900000, \"val\": 18}, {\"col\": \"data\", \"idx\": 1460934960000, \"val\": 27}, {\"col\": \"data\", \"idx\": 1460935020000, \"val\": 55}, {\"col\": \"data\", \"idx\": 1460935080000, \"val\": 37}, {\"col\": \"data\", \"idx\": 1460935140000, \"val\": 56}, {\"col\": \"data\", \"idx\": 1460935200000, \"val\": 55}, {\"col\": \"data\", \"idx\": 1460935260000, \"val\": 52}, {\"col\": \"data\", \"idx\": 1460935320000, \"val\": 34}, {\"col\": \"data\", \"idx\": 1460935380000, \"val\": 36}, {\"col\": \"data\", \"idx\": 1460935440000, \"val\": 36}, {\"col\": \"data\", \"idx\": 1460935500000, \"val\": 29}, {\"col\": \"data\", \"idx\": 1460935560000, \"val\": 18}]}, {\"name\": \"stats\", \"source\": \"table\", \"transform\": [{\"keys\": [\"data.idx\"], \"type\": \"facet\"}, {\"type\": \"stats\", \"value\": \"data.val\"}]}], \"height\": 500, \"legends\": [], \"marks\": [{\"from\": {\"data\": \"table\", \"transform\": [{\"keys\": [\"data.col\"], \"type\": \"facet\"}, {\"height\": \"data.val\", \"point\": \"data.idx\", \"type\": \"stack\"}]}, \"marks\": [{\"properties\": {\"enter\": {\"fill\": {\"field\": \"data.col\", \"scale\": \"color\"}, \"interpolate\": {\"value\": \"monotone\"}, \"x\": {\"field\": \"data.idx\", \"scale\": \"x\"}, \"y\": {\"field\": \"y\", \"scale\": \"y\"}, \"y2\": {\"field\": \"y2\", \"scale\": \"y\"}}}, \"type\": \"area\"}], \"type\": \"group\"}], \"padding\": \"auto\", \"scales\": [{\"domain\": {\"data\": \"table\", \"field\": \"data.idx\"}, \"name\": \"x\", \"range\": \"width\", \"type\": \"time\", \"zero\": false}, {\"domain\": {\"data\": \"stats\", \"field\": \"sum\"}, \"name\": \"y\", \"nice\": true, \"range\": \"height\"}, {\"domain\": {\"data\": \"table\", \"field\": \"data.col\"}, \"name\": \"color\", \"range\": [\"#9e0142\", \"#d53e4f\", \"#f46d43\", \"#fdae61\", \"#fee08b\", \"#ffffbf\", \"#e6f598\", \"#abdda4\", \"#66c2a5\", \"#3288bd\", \"#5e4fa2\"], \"type\": \"ordinal\"}], \"width\": 960}, function(chart) {\n",
       "         chart({el: \"#vis10568f1ac52446439506867dbbbd6f60\"}).update();\n",
       "       });\n",
       "     };\n",
       "     _do_plot();\n",
       "   })();\n",
       "</script>\n",
       "<style>.vega canvas {width: 100%;}</style>\n",
       "        "
      ],
      "text/plain": [
       "<IPython.core.display.HTML object>"
      ]
     },
     "metadata": {},
     "output_type": "display_data"
    }
   ],
   "source": [
    "import vincent\n",
    "vincent.core.initialize_notebook()\n",
    "area = vincent.Area(tweets1m)\n",
    "area.colors(brew='Spectral')\n",
    "area.display()"
   ]
  },
  {
   "cell_type": "code",
   "execution_count": 13,
   "metadata": {
    "collapsed": false
   },
   "outputs": [
    {
     "name": "stdout",
     "output_type": "stream",
     "text": [
      "8494\n"
     ]
    }
   ],
   "source": [
    "print (len(tweets_data))"
   ]
  },
  {
   "cell_type": "code",
   "execution_count": 14,
   "metadata": {
    "collapsed": true
   },
   "outputs": [],
   "source": [
    "import nltk\n",
    "from nltk.corpus import stopwords\n",
    "from nltk import FreqDist"
   ]
  },
  {
   "cell_type": "code",
   "execution_count": 15,
   "metadata": {
    "collapsed": false
   },
   "outputs": [],
   "source": [
    "stop = stopwords.words('greek')\n",
    "text = tweets['text']"
   ]
  },
  {
   "cell_type": "code",
   "execution_count": 16,
   "metadata": {
    "collapsed": true
   },
   "outputs": [],
   "source": [
    "tokens = []\n",
    "for txt in text.values:\n",
    "    tokens.extend([t.lower().strip(\":,.\") for t in txt.split()])\n",
    "\n",
    "filteredtokens = [w for w in tokens if not w in stop]"
   ]
  },
  {
   "cell_type": "code",
   "execution_count": 17,
   "metadata": {
    "collapsed": false
   },
   "outputs": [
    {
     "data": {
      "text/plain": [
       "[('#enikos', 6632),\n",
       " ('είναι', 810),\n",
       " ('από', 686),\n",
       " ('τους', 654),\n",
       " ('μας', 588),\n",
       " ('ρε', 583),\n",
       " ('@adonisgeorgiadi', 560),\n",
       " ('τι', 518),\n",
       " ('@nchatzinikolaou', 426),\n",
       " ('στα', 415),\n",
       " ('τις', 393),\n",
       " ('ότι', 390),\n",
       " ('σπίρτζης', 377),\n",
       " ('έχει', 359),\n",
       " ('σπίρτζη', 337),\n",
       " ('λέει', 313),\n",
       " ('τη', 304),\n",
       " ('', 280),\n",
       " ('γιατί', 258),\n",
       " ('μανταλένα', 251),\n",
       " ('σπιρτζης', 244),\n",
       " ('αυτό', 237),\n",
       " ('#enikos_gr', 232),\n",
       " ('όταν', 220),\n",
       " ('σας', 215),\n",
       " ('ή', 209),\n",
       " ('κάνει', 208),\n",
       " ('ανελ', 205),\n",
       " ('&', 204),\n",
       " ('@gveltsi', 200),\n",
       " ('συριζα', 194),\n",
       " ('τώρα', 187),\n",
       " ('ευρώ', 181),\n",
       " ('αλλά', 178),\n",
       " ('@athandim', 175),\n",
       " ('λοβέρδος', 169),\n",
       " ('μέτρα', 168),\n",
       " ('μόνο', 155),\n",
       " ('μιλάει', 153),\n",
       " ('-', 152),\n",
       " ('αδωνις', 150),\n",
       " ('ένα', 149),\n",
       " ('άδωνις', 148),\n",
       " ('έχουν', 146),\n",
       " ('πάνελ', 146),\n",
       " ('όχι', 140),\n",
       " ('2700', 140),\n",
       " ('πασοκ', 137),\n",
       " ('πάει', 136),\n",
       " ('χώρα', 136),\n",
       " ('@htheoharis', 135),\n",
       " ('δραχμή', 132),\n",
       " ('λεει', 128),\n",
       " ('κοινό', 127),\n",
       " ('τ', 127),\n",
       " ('νδ', 125),\n",
       " ('ήταν', 124),\n",
       " ('μετά', 124),\n",
       " ('α', 123),\n",
       " ('εχει', 122),\n",
       " ('δις', 121),\n",
       " ('@enikos_gr', 120),\n",
       " ('πει', 120),\n",
       " ('αδωνι', 118),\n",
       " ('@kopriths', 117),\n",
       " ('σπιρτζη', 115),\n",
       " ('εκπρόσωπος', 115),\n",
       " ('θεοχάρης', 114),\n",
       " ('@a_loverdos', 114),\n",
       " ('απ', 113),\n",
       " ('όλοι', 107),\n",
       " ('αυτή', 107),\n",
       " ('ακόμα', 106),\n",
       " ('κάτι', 106),\n",
       " ('καλά', 105),\n",
       " ('όλα', 105),\n",
       " ('μνημόνιο', 103),\n",
       " ('αυτός', 100),\n",
       " ('αυτά', 100),\n",
       " ('λες', 99),\n",
       " ('μέχρι', 98),\n",
       " ('τόσο', 95),\n",
       " ('λίγο', 95),\n",
       " ('πες', 94),\n",
       " ('2', 93),\n",
       " ('υπάρχει', 93),\n",
       " ('@davidof17928386', 93),\n",
       " ('παιδιά', 91),\n",
       " ('έκανε', 91),\n",
       " ('στους', 91),\n",
       " ('@marlenkal', 91),\n",
       " ('χρόνια', 90),\n",
       " ('χωρίς', 90),\n",
       " ('συνταξιούχος', 89),\n",
       " ('πάλι', 87),\n",
       " ('κυβέρνηση', 87),\n",
       " ('λένε', 87),\n",
       " ('ας', 86),\n",
       " ('καραθανασόπουλο', 84),\n",
       " ('@andrey_vyshinsk', 83)]"
      ]
     },
     "execution_count": 17,
     "metadata": {},
     "output_type": "execute_result"
    }
   ],
   "source": [
    "#compute frequency distribution\n",
    "freqdist = nltk.FreqDist(filteredtokens)\n",
    "#find 100 most frequent words\n",
    "freqdist = freqdist.most_common(100)\n",
    "freqdist\n",
    "\n",
    "\n",
    "\n"
   ]
  },
  {
   "cell_type": "code",
   "execution_count": 18,
   "metadata": {
    "collapsed": true
   },
   "outputs": [],
   "source": [
    "import numpy as np\n",
    "import lda\n",
    "from sklearn.feature_extraction.text import TfidfVectorizer, CountVectorizer"
   ]
  },
  {
   "cell_type": "code",
   "execution_count": 19,
   "metadata": {
    "collapsed": false
   },
   "outputs": [
    {
     "data": {
      "text/plain": [
       "88719"
      ]
     },
     "execution_count": 19,
     "metadata": {},
     "output_type": "execute_result"
    }
   ],
   "source": [
    "tokens = {}\n",
    "\n",
    "for i in range(len(filteredtokens)):\n",
    "    tokens[i] = filteredtokens[i]\n",
    "\n",
    "len(tokens)\n"
   ]
  },
  {
   "cell_type": "code",
   "execution_count": 20,
   "metadata": {
    "collapsed": false
   },
   "outputs": [
    {
     "data": {
      "text/plain": [
       "88719"
      ]
     },
     "execution_count": 20,
     "metadata": {},
     "output_type": "execute_result"
    }
   ],
   "source": [
    "len(filteredtokens)"
   ]
  },
  {
   "cell_type": "code",
   "execution_count": 21,
   "metadata": {
    "collapsed": false
   },
   "outputs": [],
   "source": [
    "tf = CountVectorizer(strip_accents='unicode', max_df=0.95, min_df=2,stop_words= stopwords.words('greek'))\n",
    "tfs1 = tf.fit_transform(tokens.values())\n",
    "num = 3\n",
    "model = lda.LDA(n_topics=num, n_iter=500, random_state=1)"
   ]
  },
  {
   "cell_type": "code",
   "execution_count": null,
   "metadata": {
    "collapsed": false
   },
   "outputs": [],
   "source": [
    "#Document Term Matrix structure\n",
    "model.fit_transform(tfs1)\n",
    "\n",
    "#Obtain the words with high probabilities\n",
    "topic_word = model.topic_word_\n",
    "\n",
    "#Obtain the feature names\n",
    "vocab = tf.get_feature_names()\n",
    "tokens.values()"
   ]
  },
  {
   "cell_type": "code",
   "execution_count": 28,
   "metadata": {
    "collapsed": false,
    "scrolled": true
   },
   "outputs": [
    {
     "name": "stdout",
     "output_type": "stream",
     "text": [
      "Topic 0: τους μανταλενα ρε τη ανελ μιλαει ενα 2700 gveltsi\n",
      "Topic 1: σπιρτζης adonisgeorgiadi nchatzinikolaou αδωνις τωρα ευρω κανει τι δραχμη\n",
      "Topic 2: μας εχει σπιρτζη λεει στα τι τις ρε enikos_gr\n"
     ]
    }
   ],
   "source": [
    "n_top_words =10\n",
    "for i, tokens in enumerate(topic_word):\n",
    "    topic_words = np.array(vocab)[np.argsort(tokens)][:-n_top_words:-1]\n",
    "    print('Topic {}: {}'.format(i, ' '.join(topic_words)))"
   ]
  },
  {
   "cell_type": "code",
   "execution_count": 29,
   "metadata": {
    "collapsed": false,
    "scrolled": true
   },
   "outputs": [
    {
     "name": "stdout",
     "output_type": "stream",
     "text": [
      "Ξεκινάμε #stoneniko με τον @NChatzinikolaou, συζητάμε για την πορεία της διαπραγμάτευσης, την αξιολόγηση και το νέο πακέτο μέτρων #enikos (top topic: 0)\n",
      "RT @enikos_gr: Ξεκινάμε #stoneniko με τον @NChatzinikolaou, συζητάμε για την πορεία της διαπραγμάτευσης, την αξιολόγηση και το νέο πακέτο μ… (top topic: 0)\n",
      "Eεχει αποψε  #enikos (top topic: 1)\n",
      "Μπορείτε να παρακολουθήσετε την εκπομπή του @NChatzinikolaou στο https://t.co/UW9dlJLaqD και στο @StarChannelGr #enikos (top topic: 1)\n",
      "RT @enikos_gr: Μπορείτε να παρακολουθήσετε την εκπομπή του @NChatzinikolaou στο https://t.co/UW9dlJLaqD και στο @StarChannelGr #enikos (top topic: 0)\n",
      "Ο  Σπίρτζης απο Πρασινοφρουρός Γ Εθνικής spokesman της ΚΥΒΕΡΝΗΣΑΡΑΣ\n",
      "Για αυτό είστε λίγοι ρε #enikos (top topic: 1)\n",
      "Καλησπέρα κε Χατζηνικολαου Φαίνεται ότι δεν θα έχουμε συμφωνία ούτε αξιολόγηση με αυτή την κυβέρνηση. Μετά όμως τι; @NChatzinikolaou #enikos (top topic: 1)\n",
      "αντε να δουμε τι ατακα θα ακουσουμε αποψε #enikos (top topic: 2)\n",
      "RT @KOPRITHS: Αψουψουψουυυυυυυ\n",
      "Ας είναι Ελαφρύ....\n",
      "#enikos https://t.co/lf447JYtjf (top topic: 0)\n",
      "Δλδ την Πέμπτη εχει απεργίες ολη μερα ? #enikos (top topic: 1)\n",
      "RT @Andrey_Vyshinsk: Ο  Σπίρτζης απο Πρασινοφρουρός Γ Εθνικής spokesman της ΚΥΒΕΡΝΗΣΑΡΑΣ\n",
      "Για αυτό είστε λίγοι ρε #enikos (top topic: 0)\n",
      "Ο Σπίρτζης πήγε στο #enikos αλλά έκλαψε (top topic: 2)\n",
      "Noventecento στην ΕΤ3 και αντί του @AdonisGeorgiadi στον #enikos θα κάτσω να δω στο τέλος να ξεκοιλιάζουν τον Αττίλα με τις τσουγκράνες (top topic: 0)\n",
      "@htheoharis @enikos_gr  Τώρα!\n",
      "Δείτε live https://t.co/4iTzgMl7Rp (top topic: 0)\n",
      "Στον enikos.gr τώρα. \n",
      "Βλέπετε live από εδώ --> https://t.co/13ZMdEeZi5 https://t.co/KdBECx1JCf (top topic: 1)\n",
      "#enikos Ήδη νιώθω οίκτο για τον Σπίρτζη @AdonisGeorgiadi (top topic: 1)\n",
      "Ωχ... προβλεπω ακορεστο σεξ #enikos (top topic: 0)\n",
      "Και Λοβερδος και Αδωνις στον #enikos 💣💣💣 (top topic: 1)\n",
      "Όχι Λοβερδο ρε παιδιά .....είναι πολύ χαρντκορ ....#enikos (top topic: 1)\n",
      "Μόνιμο στασίδι για τον Αδωνι στο #enikos (top topic: 2)\n",
      "Το πα. σήμερα αγοράζουμε όλο το περιπτερο.\n",
      "#enikos (top topic: 0)\n",
      "Σπιρτζης ,κομμουνι απο τα πρώτα ,χαμος θα γινει με Αδωνη ,απέναντι  #enikos (top topic: 0)\n",
      "Ο Λοβέρδος έχει μισθό εκεί στον #enikos ή τον έχουν με δελτίο παροχής; (top topic: 0)\n",
      "Εκτός από τον Άδωνι η Νέα Δημοκρατία δεν έχει άλλον; #enikos (top topic: 0)\n",
      "ωχ ωχ.. Άδωνις - Θεοχάρης - Λοβέρδος. Θα φάει πολύ ξύλο το κουνάβι ο Σπίρτζης\n",
      "#enikos (top topic: 1)\n",
      "Γραβατα χρωματος επιταφί,ο Χατζηνικος,ασορτι με το θεμα #enikos (top topic: 2)\n",
      "ΚΑΛΑ ΡΕ ΑΔΩΝΙΣ ΛΟΒΕΡΔΟΣ ΘΕΟΧΑΡΗΣ\n",
      "Παιδάκια στα φανάρια κλέβουν #enikos (top topic: 1)\n",
      "Αδώνις στον #enikos. Κάντα όλα πουτάνα αντιπρόεδρε. (top topic: 1)\n",
      "Χαχαχα ολα τα ρουμπινια κ τα σμαραγδια εχει απόψε  #enikos (top topic: 0)\n",
      "RT @Arte_Joke: Και Λοβερδος και Αδωνις στον #enikos 💣💣💣 (top topic: 2)\n",
      "RT @enikos_gr: Στις 23:25 #stoneniko με τον @NChatzinikolaou, συζητάμε για την πορεία της διαπραγμάτευσης & την αξιολόγηση #enikos https://… (top topic: 0)\n",
      "Αχρειοτητα όπως πάντα \n",
      "#enikos (top topic: 2)\n",
      "Μαύρο στα ΦΑΣΙΣΤΕΡΑ της ΑΥΓΗΣ #enikos (top topic: 1)\n",
      "RT @Guess_Wjo: Μόνιμο στασίδι για τον Αδωνι στο #enikos (top topic: 2)\n",
      "Εχει Αδωνι στον #enikos  #XFactorGR (top topic: 1)\n",
      "RT @enikos_gr: Ξεκινάμε #stoneniko με τον @NChatzinikolaou, συζητάμε για την πορεία της διαπραγμάτευσης, την αξιολόγηση και το νέο πακέτο μ… (top topic: 1)\n",
      "RT @enikos_gr: Μπορείτε να παρακολουθήσετε την εκπομπή του @NChatzinikolaou στο https://t.co/UW9dlJLaqD και στο @StarChannelGr #enikos (top topic: 0)\n",
      "Και Άδωνις και Σαράφογλου;;;😨😨 #enikos (top topic: 2)\n",
      "Ο Λεβέντης πρότεινε να αναλάβει οικουμενική στην ΟΝΝΕΔ. #enikos (top topic: 0)\n",
      "Σπίρτζης ρε πούστη μου...Πασόκ...μόνο Πασοκ..βαθύ Πασοκ..δεν υπάρχει τπτ άλλο...κατάντια...#enikos (top topic: 1)\n"
     ]
    }
   ],
   "source": [
    "doc_topic = model.doc_topic_    \n",
    "\n",
    "for i in range(40):\n",
    "     print(\"{} (top topic: {})\".format(text[i], doc_topic[i].argmax()))"
   ]
  },
  {
   "cell_type": "code",
   "execution_count": null,
   "metadata": {
    "collapsed": true
   },
   "outputs": [],
   "source": []
  }
 ],
 "metadata": {
  "kernelspec": {
   "display_name": "Python 2",
   "language": "python",
   "name": "python2"
  },
  "language_info": {
   "codemirror_mode": {
    "name": "ipython",
    "version": 2
   },
   "file_extension": ".py",
   "mimetype": "text/x-python",
   "name": "python",
   "nbconvert_exporter": "python",
   "pygments_lexer": "ipython2",
   "version": "2.7.10"
  }
 },
 "nbformat": 4,
 "nbformat_minor": 0
}
